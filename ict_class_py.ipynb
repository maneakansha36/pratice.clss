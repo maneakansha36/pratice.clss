{
  "nbformat": 4,
  "nbformat_minor": 0,
  "metadata": {
    "colab": {
      "provenance": [],
      "authorship_tag": "ABX9TyOwVD+5Ppg5SH/3oSJxdXid",
      "include_colab_link": true
    },
    "kernelspec": {
      "name": "python3",
      "display_name": "Python 3"
    },
    "language_info": {
      "name": "python"
    }
  },
  "cells": [
    {
      "cell_type": "markdown",
      "metadata": {
        "id": "view-in-github",
        "colab_type": "text"
      },
      "source": [
        "<a href=\"https://colab.research.google.com/github/maneakansha36/pratice.clss/blob/main/ict_class_py.ipynb\" target=\"_parent\"><img src=\"https://colab.research.google.com/assets/colab-badge.svg\" alt=\"Open In Colab\"/></a>"
      ]
    },
    {
      "cell_type": "markdown",
      "source": [
        "# Iterative statements"
      ],
      "metadata": {
        "id": "s8rc4ueukYW4"
      }
    },
    {
      "cell_type": "code",
      "source": [
        "for i in range(10):\n",
        "  print(i)"
      ],
      "metadata": {
        "id": "xzfjq_Lhkle5"
      },
      "execution_count": null,
      "outputs": []
    },
    {
      "cell_type": "code",
      "source": [
        "for num in range(100, 140, 2):\n",
        "  print(num)"
      ],
      "metadata": {
        "id": "P5IZmXyElFxs"
      },
      "execution_count": null,
      "outputs": []
    },
    {
      "cell_type": "markdown",
      "source": [
        "# **string**"
      ],
      "metadata": {
        "id": "KV4CS6rQlYYO"
      }
    },
    {
      "cell_type": "code",
      "source": [
        "word =\"Remote Intership\"\n",
        "for char in word:\n",
        "  print(char)"
      ],
      "metadata": {
        "id": "0EeWIHRmlg7r"
      },
      "execution_count": null,
      "outputs": []
    },
    {
      "cell_type": "markdown",
      "source": [
        "# list"
      ],
      "metadata": {
        "id": "nuQTbQMTl3EG"
      }
    },
    {
      "cell_type": "code",
      "source": [
        "my_list = ['akku','aapu','lilly']\n",
        "for item in my_list:\n",
        "  print(item)\n"
      ],
      "metadata": {
        "id": "ePBn8nSvl5g0"
      },
      "execution_count": null,
      "outputs": []
    },
    {
      "cell_type": "markdown",
      "source": [
        "# length"
      ],
      "metadata": {
        "id": "GMOqAPGfmYJC"
      }
    },
    {
      "cell_type": "code",
      "source": [
        "for i in range(len(my_list)):\n",
        "  print(my_list[i])"
      ],
      "metadata": {
        "id": "jMmSbHyhmfHa"
      },
      "execution_count": null,
      "outputs": []
    },
    {
      "cell_type": "markdown",
      "source": [
        "# question & answer"
      ],
      "metadata": {
        "id": "OSF6Mn40nL3S"
      }
    },
    {
      "cell_type": "code",
      "source": [
        "my_list = ['akku','aapu','lilly']\n",
        "for item in my_list:\n",
        "  if item ==\"akku\":\n",
        "    print(\" item found\")\n",
        "  else:\n",
        "    print(item)"
      ],
      "metadata": {
        "collapsed": true,
        "id": "5bPdTk9KnRmG"
      },
      "execution_count": null,
      "outputs": []
    },
    {
      "cell_type": "markdown",
      "source": [
        "# dict"
      ],
      "metadata": {
        "id": "hVQ5Igmdp7nO"
      }
    },
    {
      "cell_type": "code",
      "source": [
        "my_dict = {\n",
        "    \"name\":\"akku\",\n",
        "    \"age\": \"21\",\n",
        "    \"city\":\"kollam\",\n",
        "    \"food\":\" chapathi\",\n",
        "    \"game\":\" cricket\"\n",
        "}\n",
        "my_dict.keys()\n",
        "my_dict.values()\n",
        "my_dict.items()\n",
        "for k,v in my_dict.items():\n",
        "  print(f\"my {k} is {v}\")"
      ],
      "metadata": {
        "id": "O07O95cBqBdN"
      },
      "execution_count": null,
      "outputs": []
    },
    {
      "cell_type": "markdown",
      "source": [
        "# q&s"
      ],
      "metadata": {
        "id": "czsQhwEFsab6"
      }
    },
    {
      "cell_type": "code",
      "source": [
        "my_dict = {\"sugar\":\"120\",\"rice\": \"212\",\"dal\":\"150\",\"chapathi\":\"24\",\"book\":\"20\"}\n",
        "budget=450\n",
        "cart=[]\n",
        "total_sum = 0\n",
        "for k,v in my_dict.items():\n",
        "  if total_sum +int(v)<=budget:\n",
        "    cart.append(k)\n",
        "    total_sum = total_sum + int(v)\n",
        "print(\"you total value is:\",total_sum)\n",
        "print(\"you cart item is:\",cart)"
      ],
      "metadata": {
        "collapsed": true,
        "id": "Xf86ZPkGseTB"
      },
      "execution_count": null,
      "outputs": []
    },
    {
      "cell_type": "markdown",
      "source": [
        "# from3&5 find div no(1-100)\n",
        "\n",
        "> Add blockquote\n",
        "\n"
      ],
      "metadata": {
        "id": "y5QTRXkf5bsp"
      }
    },
    {
      "cell_type": "markdown",
      "source": [],
      "metadata": {
        "id": "a7whz_305YxD"
      }
    },
    {
      "cell_type": "code",
      "source": [
        "for i in range(1,100):\n",
        "  if(i%3==0 and i%5==0):\n",
        "    print(i)"
      ],
      "metadata": {
        "id": "VRVyNZpQ5q9e"
      },
      "execution_count": null,
      "outputs": []
    },
    {
      "cell_type": "markdown",
      "source": [
        "#  check contion in while loop"
      ],
      "metadata": {
        "id": "GJjMqAGL_3oH"
      }
    },
    {
      "cell_type": "code",
      "source": [
        "A = 1\n",
        "while A <10 :\n",
        "  print(A)\n",
        "  A= A+2\n",
        "else:\n",
        "    print(\"you crossed the limit\")"
      ],
      "metadata": {
        "id": "quPHTO6H_6mJ"
      },
      "execution_count": null,
      "outputs": []
    },
    {
      "cell_type": "markdown",
      "source": [
        "# q&s"
      ],
      "metadata": {
        "id": "7mUWWPPfBfZy"
      }
    },
    {
      "cell_type": "markdown",
      "source": [
        "# **1) find the balance**"
      ],
      "metadata": {
        "id": "D1Pk87UnEVBC"
      }
    },
    {
      "cell_type": "code",
      "source": [
        "balance =400\n",
        "while balance  > 0:\n",
        "  print(\"your blance :\",balance)\n",
        "  balance= balance - 100\n",
        "else:\n",
        "  print(\" you crossed the balance\")"
      ],
      "metadata": {
        "id": "fauQUkuGBne4"
      },
      "execution_count": null,
      "outputs": []
    },
    {
      "cell_type": "markdown",
      "source": [
        "# 2) find the secret number"
      ],
      "metadata": {
        "id": "RMWwsXScD_Yb"
      }
    },
    {
      "cell_type": "code",
      "source": [
        "secret_number = 7\n",
        "guess = int(input(\"Enter your guess: \"))\n",
        "while secret_number != guess:\n",
        "  print(\"Incorrect guess, try again.\")\n",
        "  guess = int(input(\"Enter your guess: \"))\n",
        "print(\"You guessed the secret number!\")"
      ],
      "metadata": {
        "id": "NFW_QICSEsxR"
      },
      "execution_count": null,
      "outputs": []
    },
    {
      "cell_type": "markdown",
      "source": [
        "# find the random number"
      ],
      "metadata": {
        "id": "2I1aFjKTKS_g"
      }
    },
    {
      "cell_type": "code",
      "source": [
        "import random\n",
        "secret_number = random.randint(1,10)\n",
        "while secret_number != guess:\n",
        "  print(\"Incorrect guess, try again.\")\n",
        "  guess = int(input(\"Enter your guess: \"))\n",
        "print(\"You guessed the secret number!\")"
      ],
      "metadata": {
        "id": "Z15Cr6hbFRH5"
      },
      "execution_count": null,
      "outputs": []
    },
    {
      "cell_type": "markdown",
      "source": [
        "# password guess"
      ],
      "metadata": {
        "id": "fyZdfTW-LPap"
      }
    },
    {
      "cell_type": "code",
      "source": [
        "password = \"akku21@3\"\n",
        "attempt = 3\n",
        "while attempt > 0:\n",
        "  new_password = input(\"Enter your password: \")\n",
        "  if password !=  new_password:\n",
        "    print(\" you are incorrect\")\n",
        "    attempt -= 1\n",
        "  else:\n",
        "    print(\"You password is right!\")\n",
        "    break\n",
        "else:\n",
        "  print(\"You ran out of attempts.\")"
      ],
      "metadata": {
        "id": "3Xv1sUtVLemT"
      },
      "execution_count": null,
      "outputs": []
    },
    {
      "cell_type": "markdown",
      "source": [
        "create a dictionary to store movies and its rating print all movies and its ratings update a movie rating from 8 to 5 to 9 ad 2 new movies and their ratings to dictionary find the highest rated movies from the dic remove movies from dic if rating below 5"
      ],
      "metadata": {
        "id": "6y9hHUGTVYsB"
      }
    },
    {
      "cell_type": "code",
      "source": [
        "# Create a dictionary to store movies and their ratings\n",
        "movies = {\n",
        "    \"Inception\": 8,\n",
        "    \"Titanic\": 5,\n",
        "    \"Avatar\": 7,\n",
        "    \"Twilight\": 4,\n",
        "    \"Avengers\": 9\n",
        "}\n",
        "\n",
        "# 2. Print all movies and their ratings\n",
        "print(\"All movies and their ratings:\")\n",
        "for movie, rating in movies.items():\n",
        "    print(f\"{movie}: {rating}\")\n",
        "\n",
        "# 3. Update a movie rating from 8 to 5 or 5 to 9\n",
        "for movie in list(movies.keys()):\n",
        "    if movies[movie] == 8:\n",
        "        movies[movie] = 5\n",
        "    elif movies[movie] == 5:\n",
        "        movies[movie] = 9\n",
        "\n",
        "# 4. Add 2 new movies and their ratings\n",
        "movies[\"Interstellar\"] = 10\n",
        "movies[\"Joker\"] = 6\n",
        "\n",
        "# 5. Find the highest-rated movies\n",
        "highest_rating = max(movies.values())\n",
        "highest_rated_movies = [movie for movie, rating in movies.items() if rating == highest_rating]\n",
        "print(\"\\nHighest rated movies:\")\n",
        "for movie in highest_rated_movies:\n",
        "    print(f\"{movie}: {highest_rating}\")\n",
        "\n",
        "# 6. Remove movies from dictionary if rating below 5\n",
        "movies = {movie: rating for movie, rating in movies.items() if rating >= 5}\n",
        "\n",
        "# Final movie list\n",
        "print(\"\\nFinal movie list after updates and removals:\")\n",
        "for movie, rating in movies.items():\n",
        "    print(f\"{movie}: {rating}\")"
      ],
      "metadata": {
        "id": "AL0VDgp7mNIv"
      },
      "execution_count": null,
      "outputs": []
    },
    {
      "cell_type": "markdown",
      "source": [
        "# define function"
      ],
      "metadata": {
        "id": "QLPF0fbHtB5R"
      }
    },
    {
      "cell_type": "code",
      "source": [
        "def function_name():\n",
        " function_body"
      ],
      "metadata": {
        "id": "if6nZs3wtTVo"
      },
      "execution_count": null,
      "outputs": []
    },
    {
      "cell_type": "code",
      "source": [
        "def greet():\n",
        "  print(\"hello welcome to kerala\")\n",
        "greet()\n",
        "greet()\n"
      ],
      "metadata": {
        "id": "5FJlSuN8tjId"
      },
      "execution_count": null,
      "outputs": []
    },
    {
      "cell_type": "markdown",
      "source": [
        "# pass"
      ],
      "metadata": {
        "id": "fHt4JAq8u5TX"
      }
    },
    {
      "cell_type": "code",
      "source": [
        "def greet()\n",
        "  pass # function body add on later\n",
        "greet()"
      ],
      "metadata": {
        "id": "4Z9Gv4gmuikA"
      },
      "execution_count": null,
      "outputs": []
    },
    {
      "cell_type": "code",
      "source": [
        "def greet(name):\n",
        "  print(f\"hello {name},welcome to the program\")\n",
        "greet('akku')"
      ],
      "metadata": {
        "id": "0JFM8RBBvZQA"
      },
      "execution_count": null,
      "outputs": []
    },
    {
      "cell_type": "code",
      "source": [
        "def greet(name1, name2, name3):\n",
        "  print(f\"hello {name1}, {name2}, and {name3}, welcome to the program\")\n",
        "\n",
        "greet('akku','shahu','mochu')"
      ],
      "metadata": {
        "id": "ClpqH-ckwIzI"
      },
      "execution_count": null,
      "outputs": []
    },
    {
      "cell_type": "code",
      "source": [
        "def greet(name,time='12am'):\n",
        "  print(f\"hello {name},welcome to the program\")\n",
        "  print(f\"you session will start at{time}\")\n",
        "greet('akku','3pm')\n",
        "greet('deepu','4pm')\n",
        "greet('meery')"
      ],
      "metadata": {
        "id": "DI7Jp6R1woeG"
      },
      "execution_count": null,
      "outputs": []
    },
    {
      "cell_type": "markdown",
      "source": [
        "# q&s"
      ],
      "metadata": {
        "id": "wLechXCxyYOe"
      }
    },
    {
      "cell_type": "code",
      "source": [
        "def function_num(num1,num2):\n",
        "  product=num1*num2\n",
        "  print(\"the product is:\",product)\n",
        "num1=int(input(\"enter the first num:\"))\n",
        "num2=int(input(\"enter the second num:\"))\n",
        "function_num(num1,num2)"
      ],
      "metadata": {
        "id": "Ys409mWgycwb"
      },
      "execution_count": null,
      "outputs": []
    },
    {
      "cell_type": "code",
      "source": [
        "def amount(bill):\n",
        "  if(bill>500):\n",
        "    total_amount=bill*(10/100)\n",
        "    total_amount=bill+total_amount\n",
        "    print(\"the total amount is:\",total_amount)\n",
        "  elif(bill<500):\n",
        "    total_amount=bill*(15/100)\n",
        "    total_amount=bill+total_amount\n",
        "    print(\"the total amount is:\",total_amount)\n",
        "bill = int(input(\"enter the bill amount:\"))\n",
        "amount(bill)"
      ],
      "metadata": {
        "id": "rTSEHuZv5joc"
      },
      "execution_count": null,
      "outputs": []
    },
    {
      "cell_type": "code",
      "source": [
        "def number(bill):\n",
        "  rate\n"
      ],
      "metadata": {
        "id": "Wh4V0ceK5wXg"
      },
      "execution_count": null,
      "outputs": []
    },
    {
      "cell_type": "code",
      "source": [
        "num_list =[12,4,5,7,8,13,10,21]\n",
        "def average_even(numberlist):\n",
        "  even_list=[]\n",
        "  for num in numberlist:\n",
        "    if num % 2 ==0:\n",
        "      even_list.append(num)\n",
        "  averageeven = sum(even_list)/len(even_list)\n",
        "  print(even_list)\n",
        "  print(averageeven)\n",
        "average_even(num_list)\n",
        "\n"
      ],
      "metadata": {
        "collapsed": true,
        "id": "q6LbVhJp7dnF"
      },
      "execution_count": null,
      "outputs": []
    },
    {
      "cell_type": "code",
      "source": [
        "num_list =[12,4,5,7,8,13,10,21]\n",
        "def average_odd(numberlist):\n",
        "  odd_list=[]\n",
        "  for num in numberlist:\n",
        "    if num % 2 ==0:\n",
        "      odd_list.append(num)\n",
        "  averageodd = sum(odd_list)/len(even_list)\n",
        "  print(\"print even number:\",even_list)\n",
        "  print(\"print odd number:\",odd_list)\n",
        "  print(averageeven)\n",
        "  print(averageodd)\n",
        "average_even(num_list)\n",
        "\n"
      ],
      "metadata": {
        "id": "4qe0mqrF76nw"
      },
      "execution_count": null,
      "outputs": []
    },
    {
      "cell_type": "code",
      "source": [
        "def sum_numbers(*args):\n",
        "   print(type(args))\n",
        "   total=0\n",
        "   for i in args:\n",
        "    total= total+i\n",
        "   print(total)\n",
        "sum_numbers(7,8,9,4,3)"
      ],
      "metadata": {
        "id": "eG1kCu7p_9eA"
      },
      "execution_count": null,
      "outputs": []
    },
    {
      "cell_type": "code",
      "source": [
        "def print_info(**args):\n",
        "  for item,val in args .items():\n",
        "    print(f\"{item} is {val}\")\n",
        "print_info(name=\"ammu\",place= \"tvm\",score=6)\n",
        "print_info(name=\"ammu\",place= \"tvm\",batch=\"dsa\")\n",
        "print_info(name=\"ammu\",place= \"tvm\",batch=\"dsa\",food=\"chapati\")\n"
      ],
      "metadata": {
        "id": "jYRdnvaWBfPJ"
      },
      "execution_count": null,
      "outputs": []
    },
    {
      "cell_type": "markdown",
      "source": [
        "# lambda"
      ],
      "metadata": {
        "id": "Ass-nImMKzU8"
      }
    },
    {
      "cell_type": "code",
      "source": [
        "def square_of_num(x):\n",
        "  y = x * x\n",
        "  print(y)"
      ],
      "metadata": {
        "id": "MKq4gmvALXuD"
      },
      "execution_count": null,
      "outputs": []
    },
    {
      "cell_type": "code",
      "source": [
        "square = lambda x : x*x\n",
        "square(5)\n"
      ],
      "metadata": {
        "id": "WynvMcXIL00h"
      },
      "execution_count": null,
      "outputs": []
    },
    {
      "cell_type": "code",
      "source": [
        "add = lambda x,y : x+y\n",
        "add(3,5)"
      ],
      "metadata": {
        "id": "xL9uypcUMRkF"
      },
      "execution_count": null,
      "outputs": []
    },
    {
      "cell_type": "markdown",
      "source": [
        "# return function"
      ],
      "metadata": {
        "id": "TXay1V_GO6h7"
      }
    },
    {
      "cell_type": "code",
      "source": [
        "def Totalmark(marks):\n",
        "  return (sum(marks))#\n",
        "final_score = Totalmark([10,20,30,40,50])\n",
        "if final_score >= 90:\n",
        "  print(\"grade A\")\n",
        "elif final_score >= 80:\n",
        "  print(\"grade b\")\n",
        "elif final_score >= 70:\n",
        "  print(\"grade c\")\n",
        "elif final_score >= 60:\n",
        "  print(\"grade d\")"
      ],
      "metadata": {
        "id": "FblnLTLkMuQY"
      },
      "execution_count": null,
      "outputs": []
    },
    {
      "cell_type": "markdown",
      "source": [
        "# OOP'S\n",
        "OOPs Concepts in Python :\n",
        "***Class*** in Python,\n",
        "***Objects*** in Python,\n",
        "***Polymorphism*** in Python,\n",
        "***Encapsulation*** in Python,\n",
        "***Inheritance*** in Python,\n",
        "***Data Abstraction*** in Python.\n",
        "\n",
        "\n"
      ],
      "metadata": {
        "id": "FnC_54A6QPS8"
      }
    },
    {
      "cell_type": "code",
      "source": [
        "class Animal:\n",
        "  Animal_type = \"dog\"\n",
        "  num_legs = 4\n",
        "  mammal =\"yes\"\n",
        "  def sound(self):#any number of object can create (self key)\n",
        "    print(\"animal barks\")\n",
        "obj1 =Animal()\n",
        "obj1 .sound()\n",
        "obj2 =Animal()\n",
        "obj2 .sound()\n"
      ],
      "metadata": {
        "id": "V4XP9a4ARbaX"
      },
      "execution_count": null,
      "outputs": []
    },
    {
      "cell_type": "code",
      "source": [
        "class person:\n",
        "  place = \"tvm\"\n",
        "  def __init__(self,name,age):\n",
        "    self.name= name\n",
        "    self.age = age\n",
        "  def greet(self):\n",
        "    return f\"hi myself {self.name} and my age is {self.age} and i am from {self.place} \"\n",
        "obj1 =person('akku',21)\n",
        "obj1 .greet()\n",
        "obj2 = person('meera',28)\n",
        "obj2 .greet()"
      ],
      "metadata": {
        "id": "x8UaEf8pUDWD"
      },
      "execution_count": null,
      "outputs": []
    },
    {
      "cell_type": "markdown",
      "source": [
        "# Inheritance"
      ],
      "metadata": {
        "id": "Gr-IzqvpZYOV"
      }
    },
    {
      "cell_type": "code",
      "source": [
        "class Employee:\n",
        "  def __init__(self,name,age,salary):\n",
        "    self.name = name\n",
        "    self.age = age\n",
        "    self.salary = salary\n",
        "  def display_info(self):\n",
        "    print(f\"Name: {self.name}, Age: {self.age}, Salary: {self.salary}\")\n",
        "\n",
        "obj1 = Employee(\"akku\", 21, 50000)\n",
        "obj1.display_info()"
      ],
      "metadata": {
        "id": "55Zv7tgvZcqr"
      },
      "execution_count": null,
      "outputs": []
    },
    {
      "cell_type": "code",
      "source": [
        "class Employee:\n",
        "  def __init__(self,name,age,salary):\n",
        "    self.name = name\n",
        "    self.age = age\n",
        "    self.salary = salary\n",
        "  def display_info(self):\n",
        "    print(f\"Name: {self.name}, Age: {self.age}, Salary: {self.salary}\")\n",
        "\n",
        "class manager(Employee): # manager inherits from Employee\n",
        "  def __init__(self, name, age, salary, department, teamsize):\n",
        "    super().__init__(name, age, salary) # Call the parent class constructor\n",
        "    self.department = department\n",
        "    self.teamsize = teamsize\n",
        "\n",
        "  def display_info(self): # Override display_info for manager\n",
        "    super().display_info() # Call the parent class display_info\n",
        "    print(f\"Department: {self.department}, Team Size: {self.teamsize}\")\n",
        "\n",
        "emp1 = Employee(\"akku\", 21, 50000)\n",
        "emp1.display_info()\n",
        "\n",
        "mgr1 = manager(\"ammu\", 24, 30000, \"IT\", 20)\n",
        "mgr1.display_info() # Call the display_info method of the manager class\n",
        "class"
      ],
      "metadata": {
        "id": "co1dh138bFUh",
        "colab": {
          "base_uri": "https://localhost:8080/"
        },
        "outputId": "936146c5-81e0-4fe0-85e7-0861b1684bd2"
      },
      "execution_count": null,
      "outputs": [
        {
          "output_type": "stream",
          "name": "stdout",
          "text": [
            "Name: akku, Age: 21, Salary: 50000\n",
            "Name: ammu, Age: 24, Salary: 30000\n",
            "Department: IT, Team Size: 20\n"
          ]
        }
      ]
    },
    {
      "cell_type": "markdown",
      "source": [
        "# Git (12/8/2025)"
      ],
      "metadata": {
        "id": "at--INojVMr4"
      }
    },
    {
      "cell_type": "markdown",
      "source": [
        "version control system used for tracking changes in source code during software development.allows to multiple developers to work on project."
      ],
      "metadata": {
        "id": "Mln91OD9Vyhj"
      }
    },
    {
      "cell_type": "markdown",
      "source": [
        "commit: make frequent,small commit with clear descriptive message.can a message.\n",
        "\n",
        "Branches:a separate branch and keep you main branch stable.\n",
        "\n",
        "merge: combining changes from different branches into one.\n",
        "\n",
        "clone: creating a local copy of a remote resposibory.\n",
        "\n",
        "push/pull: pushing sends your changes to the remote resposibory."
      ],
      "metadata": {
        "id": "Bg3fNnWyW4Dp"
      }
    }
  ]
}
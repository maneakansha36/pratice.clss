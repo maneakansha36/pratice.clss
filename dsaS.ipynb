{
  "nbformat": 4,
  "nbformat_minor": 0,
  "metadata": {
    "colab": {
      "provenance": [],
      "authorship_tag": "ABX9TyM89VwXbyY5LVP2TLu3yk0a",
      "include_colab_link": true
    },
    "kernelspec": {
      "name": "python3",
      "display_name": "Python 3"
    },
    "language_info": {
      "name": "python"
    }
  },
  "cells": [
    {
      "cell_type": "markdown",
      "metadata": {
        "id": "view-in-github",
        "colab_type": "text"
      },
      "source": [
        "<a href=\"https://colab.research.google.com/github/maneakansha36/pratice.clss/blob/main/dsaS.ipynb\" target=\"_parent\"><img src=\"https://colab.research.google.com/assets/colab-badge.svg\" alt=\"Open In Colab\"/></a>"
      ]
    },
    {
      "cell_type": "markdown",
      "source": [
        "# Q1. Write a function that return the range (maximum and minimun) of a given list of numbers"
      ],
      "metadata": {
        "id": "Pq3U4Cgno-iA"
      }
    },
    {
      "cell_type": "code",
      "source": [
        "def find_range(numbers):\n",
        "    if not numbers:\n",
        "        return None, None  # Return None if the list is empty\n",
        "\n",
        "    min_val = numbers[0]\n",
        "    max_val = numbers[0]\n",
        "\n",
        "    for num in numbers[1:]:\n",
        "        if num < min_val:\n",
        "            min_val = num\n",
        "        if num > max_val:\n",
        "            max_val = num\n",
        "\n",
        "    return min_val, max_val\n",
        "\n",
        "samples = [[1, 5, 2, 8, 3], [10, 20, 5, 15], [7], []] # Added sample data\n",
        "for nums in samples:\n",
        "    min_val, max_val = find_range(nums)\n",
        "    print(f\"List: {nums} → Min: {min_val}, Max: {max_val}\")"
      ],
      "metadata": {
        "colab": {
          "base_uri": "https://localhost:8080/"
        },
        "id": "9pYgc5nwprbn",
        "outputId": "5c053606-b9ef-4e75-d9f9-a15ca3334e57"
      },
      "execution_count": null,
      "outputs": [
        {
          "output_type": "stream",
          "name": "stdout",
          "text": [
            "List: [1, 5, 2, 8, 3] → Min: 1, Max: 8\n",
            "List: [10, 20, 5, 15] → Min: 5, Max: 20\n",
            "List: [7] → Min: 7, Max: 7\n",
            "List: [] → Min: None, Max: None\n"
          ]
        }
      ]
    },
    {
      "cell_type": "markdown",
      "source": [
        "## Q2. Write function that returns mean value of a list of numbers"
      ],
      "metadata": {
        "id": "sTno6XVFrKN5"
      }
    },
    {
      "cell_type": "code",
      "source": [
        "def calculate_mean(numbers):\n",
        "    if not numbers:\n",
        "        return None\n",
        "    total = 0\n",
        "    count = 0\n",
        "    for number in numbers:\n",
        "        total += number\n",
        "        count += 1\n",
        "    mean = total / count\n",
        "    return mean\n",
        "nums = [23, 21, 34, 48, 51]\n",
        "mean_value = calculate_mean(nums)\n",
        "print(f\"Mean: {mean_value}\")"
      ],
      "metadata": {
        "colab": {
          "base_uri": "https://localhost:8080/"
        },
        "id": "zNabvqUerTiL",
        "outputId": "328ea4f9-afab-4432-9c68-4cccc52b9b25"
      },
      "execution_count": null,
      "outputs": [
        {
          "output_type": "stream",
          "name": "stdout",
          "text": [
            "Mean: 35.4\n"
          ]
        }
      ]
    },
    {
      "cell_type": "markdown",
      "source": [
        "# Q3. Write a function that returns the median value of a list of numbers"
      ],
      "metadata": {
        "id": "An4d4iVAtCd3"
      }
    },
    {
      "cell_type": "code",
      "source": [
        "def calculate_median(numbers):\n",
        "    if not numbers:\n",
        "        return None\n",
        "    numbers_sorted = sorted(numbers)\n",
        "    n = len(numbers_sorted)\n",
        "    if n % 2 == 0:\n",
        "        return (numbers_sorted[n // 2 - 1] + numbers_sorted[n // 2]) / 2\n",
        "    else:\n",
        "        return numbers_sorted[n // 2]\n",
        "nums = [23, 21, 34, 48, 51]\n",
        "print(f\"Median: {median_value}\")"
      ],
      "metadata": {
        "colab": {
          "base_uri": "https://localhost:8080/"
        },
        "id": "H29bUbkbt-U0",
        "outputId": "a37829ad-9989-4e89-c63a-f5f627e9c197"
      },
      "execution_count": null,
      "outputs": [
        {
          "output_type": "stream",
          "name": "stdout",
          "text": [
            "Median: 34\n"
          ]
        }
      ]
    },
    {
      "cell_type": "markdown",
      "source": [
        "## Q4. Write a function to return the mod of a list of numbers, if no mod exists, it should return None. If more than one mod exist, return the mod values as list"
      ],
      "metadata": {
        "id": "g-M0iqGpwvrZ"
      }
    },
    {
      "cell_type": "code",
      "source": [
        "def list_mod(nums):\n",
        "    if not nums:\n",
        "        return None\n",
        "    mod = {}\n",
        "    for num in nums:\n",
        "        mod[num] = mod.get(num, 0) + 1\n",
        "\n",
        "    # Find the maximum frequency\n",
        "    max_count = max(mod.values())\n",
        "\n",
        "    if max_count == 1:\n",
        "        return None  # No mod exists\n",
        "\n",
        "    # Collect all numbers with maximum frequency\n",
        "    mods = [num for num, count in mod.items() if count == max_count]\n",
        "\n",
        "    if len(mods) == 1:\n",
        "        return mods[0]\n",
        "    else:\n",
        "        return mods\n",
        "\n",
        "nums = [1, 2, 2, 3, 4, 4, 5]\n",
        "mod_value = list_mod(nums)\n",
        "print(f\"Mod: {mod_value}\")"
      ],
      "metadata": {
        "id": "4eVObDphwyKT",
        "colab": {
          "base_uri": "https://localhost:8080/"
        },
        "outputId": "c62fec93-eaf8-4a50-ea86-5e3d576ed78a"
      },
      "execution_count": null,
      "outputs": [
        {
          "output_type": "stream",
          "name": "stdout",
          "text": [
            "Mod: [2, 4]\n"
          ]
        }
      ]
    },
    {
      "cell_type": "markdown",
      "source": [
        "## Q5. Write function to compute a given percentile value (e.g. 90th percentile) of a list of numbers"
      ],
      "metadata": {
        "id": "gAcnMiDP0aMN"
      }
    },
    {
      "cell_type": "code",
      "source": [
        "def per(nums, p):\n",
        "    if not nums:\n",
        "        return None\n",
        "    if not (0 <= p <= 100):\n",
        "        raise ValueError(\"Percentile must be between 0 and 100\")\n",
        "\n",
        "    nums_sorted = sorted(nums)\n",
        "    n = len(nums_sorted)\n",
        "    k = (p / 100) * (n - 1)\n",
        "    f = int(k)\n",
        "    c = min(f + 1, n - 1)\n",
        "    return nums_sorted[f] + (nums_sorted[c] - nums_sorted[f]) * (k - f)\n",
        "print(per([1, 2, 3, 4, 5], 50))\n",
        "print(per([1, 2, 3, 4, 5], 90))\n",
        "print(per([5, 1, 3, 4, 2], 25))\n"
      ],
      "metadata": {
        "colab": {
          "base_uri": "https://localhost:8080/"
        },
        "id": "xUhJhCAC0hU8",
        "outputId": "859e7ecb-831e-487d-c588-0e5b5d85e875"
      },
      "execution_count": null,
      "outputs": [
        {
          "output_type": "stream",
          "name": "stdout",
          "text": [
            "3.0\n",
            "4.6\n",
            "2.0\n"
          ]
        }
      ]
    },
    {
      "cell_type": "markdown",
      "source": [
        "# Q6. Write a function that returns the lower bound of a list of numbers"
      ],
      "metadata": {
        "id": "P4BdcNPG93dL"
      }
    },
    {
      "cell_type": "markdown",
      "source": [],
      "metadata": {
        "id": "f1jTbZBWuovo"
      }
    },
    {
      "cell_type": "code",
      "source": [
        "def lower_bound(nums):\n",
        "    if not nums:\n",
        "        return None\n",
        "    min_val = nums[0]\n",
        "    for num in nums[1:]:\n",
        "        if num < min_val:\n",
        "            min_val = num\n",
        "    return min_val\n",
        "print(lower_bound([5, 2, 9, 1, 7]))\n",
        "print(lower_bound([3, 3, 3]))\n",
        "\n",
        "\n"
      ],
      "metadata": {
        "colab": {
          "base_uri": "https://localhost:8080/"
        },
        "id": "BkjvCZfO-JoL",
        "outputId": "e7622a0e-1190-479f-9ca7-d8972087169a"
      },
      "execution_count": null,
      "outputs": [
        {
          "output_type": "stream",
          "name": "stdout",
          "text": [
            "1\n",
            "3\n"
          ]
        }
      ]
    },
    {
      "cell_type": "markdown",
      "source": [
        "## Q7. Write function to return any outliers from a given list of numbers, if no outliers present it should return None"
      ],
      "metadata": {
        "id": "98Amw3Ik-lgp"
      }
    },
    {
      "cell_type": "code",
      "source": [
        " def find_outliers(data):\n",
        "  data.sort()\n",
        "  n=len(data)\n",
        "  Q1__index = (n // 4)\n",
        "  Q2__index = (n // 2)\n",
        "  Q3__index = (3 * n // 4)\n",
        "\n",
        "  Q1 = data[Q1__index - 1]\n",
        "  Q2 = data[Q2__index - 1]\n",
        "  Q3 = data[Q3__index - 1]\n",
        "\n",
        "  IQR = Q3 - Q1\n",
        "  lower_limit = Q1 - 1.5 * IQR\n",
        "  upper_limit = Q3 + 1.5 * IQR\n",
        "\n",
        "  outliers = []  # Initialize outlier as an empty list\n",
        "  for x in data:\n",
        "    if x < lower_limit or x > upper_limit:\n",
        "      outliers.append(x)\n",
        "\n",
        "  if outliers:\n",
        "    return outliers\n",
        "  else:\n",
        "    return None\n",
        "\n",
        "data = [2,3,4,6,7,8,300,9]\n",
        "result = find_outliers(data)\n",
        "print(result)"
      ],
      "metadata": {
        "colab": {
          "base_uri": "https://localhost:8080/"
        },
        "id": "sr7rEEZCA_ad",
        "outputId": "18fa9380-2d47-4cdc-93bd-a0fe25c2e996"
      },
      "execution_count": null,
      "outputs": [
        {
          "output_type": "stream",
          "name": "stdout",
          "text": [
            "[300]\n"
          ]
        }
      ]
    },
    {
      "cell_type": "markdown",
      "source": [
        "##Q8. Write a function to return standard deviation of a list of numbers"
      ],
      "metadata": {
        "id": "0kgV_YhQCIVL"
      }
    },
    {
      "cell_type": "code",
      "source": [
        "def standard_deviation(nums):\n",
        "    n = len(nums)\n",
        "    mean = sum(nums) / n\n",
        "    variance = sum((x - mean) ** 2 for x in nums) / n\n",
        "    std_dev = variance ** 0.5\n",
        "    return std_dev\n",
        "\n",
        "print(standard_deviation([2, 4, 4, 4, 5, 5, 7, 9]))"
      ],
      "metadata": {
        "colab": {
          "base_uri": "https://localhost:8080/"
        },
        "id": "QFdwN3nEGsOw",
        "outputId": "d62af915-e64c-40cd-8405-32d162815b39"
      },
      "execution_count": null,
      "outputs": [
        {
          "output_type": "stream",
          "name": "stdout",
          "text": [
            "2.0\n"
          ]
        }
      ]
    },
    {
      "cell_type": "markdown",
      "source": [
        "## Q9. Write function to compute and return Z-score values of a list of numbers"
      ],
      "metadata": {
        "id": "nNNc1-KDI9tE"
      }
    },
    {
      "cell_type": "code",
      "source": [
        "def z_scores(nums):\n",
        "    n = len(nums)\n",
        "    mean = sum(nums) / n\n",
        "    variance = sum((x - mean) ** 2 for x in nums) / n\n",
        "    std_dev = variance ** 0.5\n",
        "    if std_dev == 0:\n",
        "        return [0 for _ in nums]\n",
        "    return [(x - mean) / std_dev for x in nums]\n",
        "data = [2, 4, 4, 4, 5, 5, 7, 9]\n",
        "print(z_scores(data))\n",
        "\n",
        "\n"
      ],
      "metadata": {
        "colab": {
          "base_uri": "https://localhost:8080/"
        },
        "id": "d9W2K4KGJFJf",
        "outputId": "3e82cd4b-2015-420f-9105-505e0b6a55d7"
      },
      "execution_count": null,
      "outputs": [
        {
          "output_type": "stream",
          "name": "stdout",
          "text": [
            "[-1.5, -0.5, -0.5, -0.5, 0.0, 0.0, 1.0, 2.0]\n"
          ]
        }
      ]
    },
    {
      "cell_type": "markdown",
      "source": [
        "## Q10. Write a function to compute and return the Pearson correlation coefficient value of two list of numbers"
      ],
      "metadata": {
        "id": "XHdyUxT-LpVn"
      }
    },
    {
      "cell_type": "markdown",
      "source": [],
      "metadata": {
        "id": "xax0VgDALAAl"
      }
    },
    {
      "cell_type": "code",
      "source": [
        "def sample_covariance_and_pearson(x, y):\n",
        "    n = len(x)\n",
        "    if n != len(y):\n",
        "        raise ValueError(\"Input lists must have the same length\")\n",
        "\n",
        "    sum_x = sum(x)\n",
        "    sum_y = sum(y)\n",
        "    sum_x_sq = sum(xi ** 2 for xi in x)\n",
        "    sum_y_sq = sum(yi ** 2 for yi in y)\n",
        "    sum_xy = sum(x[i] * y[i] for i in range(n))\n",
        "    cov = (sum_xy - (sum_x * sum_y) / n) / (n - 1)\n",
        "    numerator = n * sum_xy - sum_x * sum_y\n",
        "    denominator = ((n * sum_x_sq - sum_x ** 2) * (n * sum_y_sq - sum_y ** 2)) ** 0.5\n",
        "    corr = numerator / denominator if denominator != 0 else 0\n",
        "\n",
        "    return cov, corr\n",
        "x = [10, 20, 30, 40, 50]\n",
        "y = [15, 25, 35, 45, 60]\n",
        "\n",
        "cov, corr = sample_covariance_and_pearson(x, y)\n",
        "print(\"Sample Covariance:\", cov)\n"
      ],
      "metadata": {
        "colab": {
          "base_uri": "https://localhost:8080/"
        },
        "id": "8Nlt8s75MPYu",
        "outputId": "06772120-d85c-4820-ccfc-8191ab3061a5"
      },
      "execution_count": null,
      "outputs": [
        {
          "output_type": "stream",
          "name": "stdout",
          "text": [
            "Sample Covariance: 275.0\n"
          ]
        }
      ]
    }
  ]
}